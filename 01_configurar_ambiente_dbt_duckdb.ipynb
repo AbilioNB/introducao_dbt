{
 "cells": [
  {
   "cell_type": "markdown",
   "id": "d48f11b0",
   "metadata": {},
   "source": [
    "# Configuração de Ambiente dbt com DuckDB\n",
    "\n",
    "Este notebook automatiza a criação e configuração de um ambiente `dbt` com `DuckDB` usando ambiente virtual Python.\n",
    "\n",
    "**Etapas:**\n",
    "1. Criação de ambiente virtual\n",
    "2. Instalação de dependências\n",
    "3. Criação de banco DuckDB\n",
    "4. Inicialização de projeto dbt\n",
    "5. Criação do arquivo de perfil do dbt\n",
    "6. Teste final da configuração"
   ]
  },
  {
   "cell_type": "markdown",
   "id": "64a2bbcf",
   "metadata": {},
   "source": [
    "## 0- Imports gerais"
   ]
  },
  {
   "cell_type": "code",
   "execution_count": null,
   "id": "bf9cb640",
   "metadata": {},
   "outputs": [],
   "source": [
    "import os\n",
    "import sys\n",
    "import subprocess\n",
    "import venv\n",
    "import json\n",
    "from pathlib import Path\n",
    "import duckdb"
   ]
  },
  {
   "cell_type": "markdown",
   "id": "1a50954c",
   "metadata": {},
   "source": [
    "## 1. Criação de ambiente virtual"
   ]
  },
  {
   "cell_type": "code",
   "execution_count": null,
   "id": "c06dd7fb",
   "metadata": {},
   "outputs": [],
   "source": [
    "def create_and_activate_venv():\n",
    "    venv_name = \".venv\"\n",
    "    if os.path.exists(venv_name):\n",
    "        print(f\"✅ Ambiente virtual '{venv_name}' já existe.\")\n",
    "    else:\n",
    "        print(f\"🔧 Criando ambiente virtual '{venv_name}'...\")\n",
    "        venv.create(venv_name, with_pip=True)\n",
    "        print(\"✅ Ambiente virtual criado com sucesso!\")\n",
    "\n",
    "    if sys.platform == \"win32\":\n",
    "        python_path = os.path.join(venv_name, \"Scripts\", \"python.exe\")\n",
    "        pip_path = os.path.join(venv_name, \"Scripts\", \"pip.exe\")\n",
    "    else:\n",
    "        python_path = os.path.join(venv_name, \"bin\", \"python\")\n",
    "        pip_path = os.path.join(venv_name, \"bin\", \"pip\")\n",
    "    return python_path, pip_path\n",
    "\n",
    "python_path, pip_path = create_and_activate_venv()"
   ]
  },
  {
   "cell_type": "markdown",
   "id": "8806f75a",
   "metadata": {},
   "source": [
    "## 2. Instalação de dependências"
   ]
  },
  {
   "cell_type": "code",
   "execution_count": null,
   "id": "488daf04",
   "metadata": {},
   "outputs": [],
   "source": [
    "def install_packages(pip_path):\n",
    "    packages = [\"dbt-duckdb\", \"pandas\", \"duckdb\"]\n",
    "    for package in packages:\n",
    "        print(f\"📦 Instalando {package}...\")\n",
    "        subprocess.run([pip_path, \"install\", package], check=True)\n",
    "\n",
    "install_packages(pip_path)"
   ]
  },
  {
   "cell_type": "markdown",
   "id": "23abed3b",
   "metadata": {},
   "source": [
    "### 3. Inicialização de projeto dbt"
   ]
  },
  {
   "cell_type": "markdown",
   "id": "94b84737",
   "metadata": {},
   "source": [
    "```\n",
    "dbt init meu_projeto_dbt\n",
    "```"
   ]
  },
  {
   "cell_type": "code",
   "execution_count": null,
   "id": "9e4fdd25",
   "metadata": {},
   "outputs": [],
   "source": [
    "def create_model_directories():\n",
    "    base_path = \"meu_projeto_dbt/models\"\n",
    "    directories = [\"raw\", \"staging\", \"intermediate\", \"mart\"]\n",
    "    for d in directories:\n",
    "        dir_path = os.path.join(base_path, d)\n",
    "        os.makedirs(dir_path, exist_ok=True)\n",
    "        init_file = os.path.join(dir_path, \"__init__.py\")\n",
    "        if not os.path.exists(init_file):\n",
    "            with open(init_file, 'w') as f:\n",
    "                f.write(f\"# {d} models\\n\")\n",
    "create_model_directories()"
   ]
  },
  {
   "cell_type": "markdown",
   "id": "b5fb5fde",
   "metadata": {},
   "source": [
    "### 4. Inicialização de projeto dbt"
   ]
  },
  {
   "cell_type": "code",
   "execution_count": null,
   "id": "df22794b",
   "metadata": {},
   "outputs": [],
   "source": [
    "\n",
    "def create_duckdb_database():\n",
    "    db_path = \"bd/dev.duckdb\"\n",
    "    os.makedirs(os.path.dirname(db_path), exist_ok=True)\n",
    "    conn = duckdb.connect(db_path)\n",
    "    result = conn.execute(\"SELECT 'Conexão estabelecida com sucesso!' as status\").fetchone()\n",
    "    print(f\"🗄️ Banco DuckDB criado/verificado: {db_path}\")\n",
    "    print(f\"📊 Status: {result[0]}\")\n",
    "    conn.close()\n",
    "    return db_path\n",
    "    # Criação dos schemas no banco DuckDB\n",
    "  \n",
    "\n",
    "create_duckdb_database()"
   ]
  },
  {
   "cell_type": "code",
   "execution_count": null,
   "id": "e05953f9",
   "metadata": {},
   "outputs": [],
   "source": []
  },
  {
   "cell_type": "markdown",
   "id": "7e3f6fb0",
   "metadata": {},
   "source": [
    "#### 4.1 Teste de conexão ao banco"
   ]
  },
  {
   "cell_type": "code",
   "execution_count": null,
   "id": "71e2cbe5",
   "metadata": {},
   "outputs": [],
   "source": [
    "def test_database_connection():\n",
    "    conn = duckdb.connect(\"bd/dev.duckdb\")\n",
    "    result = conn.execute(\"SELECT version() as duckdb_version\").fetchone()\n",
    "    print(f\"🔌 Conexão OK - Versão DuckDB: {result[0]}\")\n",
    "    conn.execute(\"CREATE TABLE IF NOT EXISTS teste_conexao (id INTEGER, mensagem VARCHAR)\")\n",
    "    conn.execute(\"INSERT INTO teste_conexao VALUES (1, 'Teste ok')\")\n",
    "    print(conn.execute(\"SELECT * FROM teste_conexao\").fetchall())\n",
    "    conn.execute(\"DROP TABLE teste_conexao\")\n",
    "    conn.close()\n",
    "test_database_connection()"
   ]
  },
  {
   "cell_type": "markdown",
   "id": "4c58a7b8",
   "metadata": {},
   "source": [
    "###  5. Criação do arquivo de perfil do dbt"
   ]
  },
  {
   "cell_type": "code",
   "execution_count": null,
   "id": "2ea85722",
   "metadata": {},
   "outputs": [],
   "source": [
    "try:\n",
    "    import yaml\n",
    "except ImportError:\n",
    "    yaml = None\n",
    "\n",
    "def create_dbt_profile():\n",
    "    profile_dir = os.path.expanduser(\"~/.dbt\")\n",
    "    os.makedirs(profile_dir, exist_ok=True)\n",
    "    profiles_path = os.path.join(profile_dir, \"profiles.yml\")\n",
    "    config = {\n",
    "        \"meu_projeto_dbt\": {\n",
    "            \"target\": \"dev\",\n",
    "            \"outputs\": {\n",
    "                \"dev\": {\n",
    "                    \"type\": \"duckdb\",\n",
    "                    \"path\": os.path.abspath(\"bd/dev.duckdb\"),\n",
    "                    \"schema\": \"main\"\n",
    "                }\n",
    "            }\n",
    "        }\n",
    "    }\n",
    "    with open(profiles_path, 'w') as f:\n",
    "        if yaml:\n",
    "            yaml.dump(config, f)\n",
    "        else:\n",
    "            json.dump(config, f, indent=2)\n",
    "    print(f\"✅ Perfil dbt criado em: {profiles_path}\")\n",
    "create_dbt_profile()"
   ]
  },
  {
   "cell_type": "markdown",
   "id": "b5b49772",
   "metadata": {},
   "source": [
    "### 6. Teste final da configuração"
   ]
  },
  {
   "cell_type": "code",
   "execution_count": null,
   "id": "c8888cfa",
   "metadata": {},
   "outputs": [],
   "source": [
    "def test_dbt_configuration():\n",
    "    os.chdir(\"meu_projeto_dbt\")\n",
    "    dbt_path = os.path.join(\"..\", \".venv\", \"Scripts\" if sys.platform == \"win32\" else \"bin\", \"dbt\")\n",
    "    result = subprocess.run([dbt_path, \"debug\"], capture_output=True, text=True)\n",
    "    print(result.stdout)\n",
    "    os.chdir(\"..\")\n",
    "test_dbt_configuration()"
   ]
  },
  {
   "cell_type": "code",
   "execution_count": null,
   "id": "070b1aad",
   "metadata": {},
   "outputs": [],
   "source": []
  }
 ],
 "metadata": {
  "kernelspec": {
   "display_name": ".venv",
   "language": "python",
   "name": "python3"
  },
  "language_info": {
   "codemirror_mode": {
    "name": "ipython",
    "version": 3
   },
   "file_extension": ".py",
   "mimetype": "text/x-python",
   "name": "python",
   "nbconvert_exporter": "python",
   "pygments_lexer": "ipython3",
   "version": "3.12.10"
  }
 },
 "nbformat": 4,
 "nbformat_minor": 5
}
