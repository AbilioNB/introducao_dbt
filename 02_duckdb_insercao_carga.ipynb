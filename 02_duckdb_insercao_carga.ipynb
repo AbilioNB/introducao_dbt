{
  "cells": [
    {
      "cell_type": "markdown",
      "id": "4c70f730",
      "metadata": {},
      "source": [
        "# Carregando os dados do DuckDB"
      ]
    },
    {
      "cell_type": "markdown",
      "id": "1ea61cf1",
      "metadata": {},
      "source": [
        "O objetivo dessa etapa é realizar a carga nos dados no banco duckdb."
      ]
    },
    {
      "cell_type": "markdown",
      "id": "3b4ce6b6",
      "metadata": {},
      "source": [
        "## Etapas realizadas neste código:\n",
        "1. Importação das bibliotecas necessárias (duckdb, pandas, time, os, datetime).\n",
        "2. Definição de uma função de log para registrar mensagens com timestamp.\n",
        "3. Mapeamento dos arquivos de uma pasta para um dicionário com nomes e caminhos completos.\n",
        "4. Conexão ao banco de dados DuckDB.\n",
        "5. Criação/verificação do schema 'raw' no banco de dados.\n",
        "6. Inserção dos arquivos mapeados como tabelas no schema 'raw' do DuckDB, utilizando detecção automática de formato.\n",
        "7. Criação das demais zonas de dados\n"
      ]
    },
    {
      "cell_type": "markdown",
      "id": "71b31dd4",
      "metadata": {},
      "source": [
        "## 1- Import e criação das funções"
      ]
    },
    {
      "cell_type": "code",
      "execution_count": 9,
      "metadata": {},
      "outputs": [],
      "source": [
        "import duckdb\n",
        "import pandas as pd\n",
        "import time\n",
        "import os\n",
        "from datetime import datetime\n",
        "\n",
        "# Função utilitária para log com horário\n",
        "def log(msg):\n",
        "    print(f\"[{datetime.now().strftime('%Y-%m-%d %H:%M:%S')}] {msg}\")"
      ]
    },
    {
      "cell_type": "code",
      "execution_count": 10,
      "id": "cfccee73",
      "metadata": {},
      "outputs": [],
      "source": [
        "def mapear_arquivos_pasta(pasta):\n",
        "    \"\"\"\n",
        "    Mapeia todos os arquivos da pasta e retorna um dicionário\n",
        "    com o nome do arquivo como chave e o caminho completo como valor.\n",
        "    \"\"\"\n",
        "    arquivos_dict = {}\n",
        "    for root, dirs, files in os.walk(pasta):\n",
        "        for file in files:\n",
        "            caminho_completo = os.path.join(root, file)\n",
        "            arquivos_dict[file] = caminho_completo\n",
        "    return arquivos_dict"
      ]
    },
    {
      "cell_type": "code",
      "execution_count": 11,
      "id": "808e4a86",
      "metadata": {},
      "outputs": [],
      "source": [
        "def inserir_arquivos_no_duckdb(arquivos_dict, con):\n",
        "    \"\"\"\n",
        "    Para cada arquivo no dicionário, checa se a tabela existe.\n",
        "    Se não existir, insere usando fast-arrow (COPY ... FROM ... AUTO_DETECT).\n",
        "    \"\"\"\n",
        "    \n",
        "    # Garante que o schema 'raw' existe antes de inserir os dados\n",
        "    con.execute(\"CREATE SCHEMA IF NOT EXISTS raw;\")\n",
        "    print(\"📁 Schema criado/verificado: raw\")\n",
        "    # Adiciona os dados no schema 'raw'\n",
        "    for nome_arquivo, caminho_arquivo in arquivos_dict.items():\n",
        "    # Garante que o schema 'raw' existe antes de inserir os dados\n",
        "        try:\n",
        "            con.execute(\"CREATE SCHEMA IF NOT EXISTS raw;\")\n",
        "            print(\"📁 Schema criado/verificado: raw\")\n",
        "        except Exception as e:\n",
        "            log(f\"Erro ao criar/verificar schema 'raw': {e}\")\n",
        "            raise\n",
        "        # Adiciona os dados no schema 'raw'\n",
        "        for nome_arquivo, caminho_arquivo in arquivos_dict.items():\n",
        "            nome_tabela = os.path.splitext(nome_arquivo)[0]\n",
        "            tabela_com_schema = f\"raw.{nome_tabela}\"\n",
        "            # Checa se a tabela já existe no schema 'raw'\n",
        "            existe = con.execute(\n",
        "                f\"SELECT COUNT(*) FROM information_schema.tables WHERE table_schema = 'raw' AND table_name = '{nome_tabela}'\"\n",
        "            ).fetchone()[0]\n",
        "            if existe:\n",
        "                log(f\"Tabela '{tabela_com_schema}' já existe. Pulando inserção.\")\n",
        "                continue\n",
        "            # Detecta tipo de arquivo e monta comando COPY\n",
        "            if caminho_arquivo.endswith(\".parquet\"):\n",
        "                comando = f\"\"\"\n",
        "                    CREATE TABLE {tabela_com_schema} AS SELECT * FROM read_parquet('{caminho_arquivo}')\n",
        "                \"\"\"\n",
        "            elif caminho_arquivo.endswith(\".csv\") or caminho_arquivo.endswith(\".CSV\"):\n",
        "                comando = f\"\"\"\n",
        "                    CREATE TABLE {tabela_com_schema} AS SELECT * FROM read_csv_auto('{caminho_arquivo}')\n",
        "                \"\"\"\n",
        "            else:\n",
        "                log(f\"Formato de arquivo não suportado para '{caminho_arquivo}'. Pulando.\")\n",
        "                continue\n",
        "            log(f\"Inserindo '{caminho_arquivo}' na tabela '{tabela_com_schema}'...\")\n",
        "            con.execute(comando)\n",
        "            log(f\"Tabela '{tabela_com_schema}' criada e dados inseridos com sucesso.\")"
      ]
    },
    {
      "cell_type": "code",
      "execution_count": 12,
      "id": "fcaba249",
      "metadata": {},
      "outputs": [],
      "source": [
        "def listar_tabelas(conexao):\n",
        "    \"\"\"\n",
        "    Retorna uma lista com o nome de todas as tabelas existentes no banco DuckDB conectado.\n",
        "    \"\"\"\n",
        "    resultado = conexao.execute(\n",
        "        \"SELECT table_name FROM information_schema.tables WHERE table_schema = 'raw'\"\n",
        "    ).fetchall()\n",
        "    return [linha[0] for linha in resultado]"
      ]
    },
    {
      "cell_type": "markdown",
      "id": "97daff95",
      "metadata": {},
      "source": [
        "## 2: Definição de entradas"
      ]
    },
    {
      "cell_type": "code",
      "execution_count": 13,
      "metadata": {},
      "outputs": [],
      "source": [
        "# Caminho do arquivo (pode ser CSV, Parquet, etc)\n",
        "PATH_DIRETORIO = \"data_input\"\n",
        "\n",
        "# Caminho do banco DuckDB (arquivo .db)\n",
        "CAMINHO_DUCKDB = \"bd/dev.duckdb\"\n",
        "\n",
        "# Cria a conexão com o banco DuckDB\n",
        "con = duckdb.connect(CAMINHO_DUCKDB)\n"
      ]
    },
    {
      "cell_type": "code",
      "execution_count": 14,
      "id": "d3520f85",
      "metadata": {},
      "outputs": [
        {
          "name": "stdout",
          "output_type": "stream",
          "text": [
            "📁 Schema criado/verificado: raw\n",
            "📁 Schema criado/verificado: raw\n",
            "[2025-09-02 10:54:36] Inserindo 'data_input\\gestor_2019.CSV' na tabela 'raw.gestor_2019'...\n",
            "[2025-09-02 10:54:36] Tabela 'raw.gestor_2019' criada e dados inseridos com sucesso.\n",
            "[2025-09-02 10:54:36] Inserindo 'data_input\\gestor_2020.CSV' na tabela 'raw.gestor_2020'...\n",
            "[2025-09-02 10:54:37] Tabela 'raw.gestor_2020' criada e dados inseridos com sucesso.\n",
            "📁 Schema criado/verificado: raw\n",
            "[2025-09-02 10:54:37] Tabela 'raw.gestor_2019' já existe. Pulando inserção.\n",
            "[2025-09-02 10:54:37] Tabela 'raw.gestor_2020' já existe. Pulando inserção.\n"
          ]
        }
      ],
      "source": [
        "inserir_arquivos_no_duckdb(mapear_arquivos_pasta(PATH_DIRETORIO), con)\n"
      ]
    },
    {
      "cell_type": "code",
      "execution_count": 17,
      "id": "a4d8c296",
      "metadata": {},
      "outputs": [
        {
          "data": {
            "text/plain": [
              "['gestor_2019', 'gestor_2020']"
            ]
          },
          "execution_count": 17,
          "metadata": {},
          "output_type": "execute_result"
        }
      ],
      "source": [
        "listar_tabelas(con)"
      ]
    },
    {
      "cell_type": "code",
      "execution_count": 18,
      "id": "ef1eef9a",
      "metadata": {},
      "outputs": [],
      "source": [
        "#Criação dos schemas\n",
        "for schema in  [\"staging\", \"intermediate\", \"mart\"]:\n",
        "    con.execute(f\"CREATE SCHEMA IF NOT EXISTS {schema};\")\n"
      ]
    },
    {
      "cell_type": "code",
      "execution_count": 19,
      "id": "f6781fed",
      "metadata": {},
      "outputs": [],
      "source": [
        "con.close()"
      ]
    },
    {
      "cell_type": "code",
      "execution_count": null,
      "id": "9e21ca66",
      "metadata": {},
      "outputs": [],
      "source": []
    }
  ],
  "metadata": {
    "kernelspec": {
      "display_name": ".venv",
      "language": "python",
      "name": "python3"
    },
    "language_info": {
      "codemirror_mode": {
        "name": "ipython",
        "version": 3
      },
      "file_extension": ".py",
      "mimetype": "text/x-python",
      "name": "python",
      "nbconvert_exporter": "python",
      "pygments_lexer": "ipython3",
      "version": "3.12.10"
    }
  },
  "nbformat": 4,
  "nbformat_minor": 5
}
